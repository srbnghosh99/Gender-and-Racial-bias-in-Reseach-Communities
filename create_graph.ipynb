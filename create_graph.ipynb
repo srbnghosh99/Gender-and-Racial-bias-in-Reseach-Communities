{
 "cells": [
  {
   "cell_type": "code",
   "execution_count": 28,
   "metadata": {},
   "outputs": [],
   "source": [
    "import pandas as pd\n",
    "import networkx as nx\n",
    "import ast\n",
    "from itertools import permutations,combinations\n",
    "from collections import defaultdict"
   ]
  },
  {
   "cell_type": "code",
   "execution_count": null,
   "metadata": {},
   "outputs": [],
   "source": [
    "df_mapping = pd.read_csv('/Users/shrabanighosh/My work/UNCC/Fall 2024/CHI2025/authors_names/sw_uniques.csv')\n",
    "race = pd.read_csv('/Users/shrabanighosh/My work/UNCC/Fall 2024/CHI2025/authors_names/dm_race.csv')\n",
    "race = race[['Author_ID','race']]\n",
    "race['race'].value_counts()\n",
    "df_mapping['race'].value_counts()\n",
    "df_mapping = df_mapping.set_index(\"Author_ID\")  # Set 'Author_ID' as index for alignment\n",
    "race = race.set_index(\"Author_ID\")  # Set 'Author_ID' as index for alignment\n",
    "df_mapping.update(race)  # Update the rows in df_a with matching rows from df_b\n",
    "df_mapping = df_mapping.reset_index()  # Reset the index back to default\n",
    "df_mapping"
   ]
  },
  {
   "cell_type": "code",
   "execution_count": 60,
   "metadata": {},
   "outputs": [
    {
     "data": {
      "text/plain": [
       "Index(['Unnamed: 0.2', 'Unnamed: 0', 'Unnamed: 0.1', 'result_id', 'title',\n",
       "       'publication_info', 'snippet', 'cited_by', 'related_pages_link',\n",
       "       'citations', 'authors_name', 'authors_id', 'resource_link', 'Year'],\n",
       "      dtype='object')"
      ]
     },
     "execution_count": 60,
     "metadata": {},
     "output_type": "execute_result"
    }
   ],
   "source": [
    "\n",
    "df = pd.read_csv('/Users/shrabanighosh/My work/UNCC/Fall 2024/CHI2025/papers/hci.csv')\n",
    "df.columns\n"
   ]
  },
  {
   "cell_type": "code",
   "execution_count": 61,
   "metadata": {},
   "outputs": [
    {
     "data": {
      "text/html": [
       "<div>\n",
       "<style scoped>\n",
       "    .dataframe tbody tr th:only-of-type {\n",
       "        vertical-align: middle;\n",
       "    }\n",
       "\n",
       "    .dataframe tbody tr th {\n",
       "        vertical-align: top;\n",
       "    }\n",
       "\n",
       "    .dataframe thead th {\n",
       "        text-align: right;\n",
       "    }\n",
       "</style>\n",
       "<table border=\"1\" class=\"dataframe\">\n",
       "  <thead>\n",
       "    <tr style=\"text-align: right;\">\n",
       "      <th></th>\n",
       "      <th>Author_ID</th>\n",
       "    </tr>\n",
       "  </thead>\n",
       "  <tbody>\n",
       "    <tr>\n",
       "      <th>0</th>\n",
       "      <td>G9MSEncAAAAJ</td>\n",
       "    </tr>\n",
       "    <tr>\n",
       "      <th>1</th>\n",
       "      <td>9_Hpd5kAAAAJ</td>\n",
       "    </tr>\n",
       "    <tr>\n",
       "      <th>2</th>\n",
       "      <td>voqd-dcAAAAJ</td>\n",
       "    </tr>\n",
       "    <tr>\n",
       "      <th>3</th>\n",
       "      <td>mfCKHikAAAAJ</td>\n",
       "    </tr>\n",
       "    <tr>\n",
       "      <th>4</th>\n",
       "      <td>S6VMDA8AAAAJ</td>\n",
       "    </tr>\n",
       "    <tr>\n",
       "      <th>...</th>\n",
       "      <td>...</td>\n",
       "    </tr>\n",
       "    <tr>\n",
       "      <th>6289</th>\n",
       "      <td>WIc3assAAAAJ</td>\n",
       "    </tr>\n",
       "    <tr>\n",
       "      <th>6290</th>\n",
       "      <td>Dbc3oB8AAAAJ</td>\n",
       "    </tr>\n",
       "    <tr>\n",
       "      <th>6291</th>\n",
       "      <td>Fh3EYHAAAAAJ</td>\n",
       "    </tr>\n",
       "    <tr>\n",
       "      <th>6317</th>\n",
       "      <td>gCDliicAAAAJ</td>\n",
       "    </tr>\n",
       "    <tr>\n",
       "      <th>6318</th>\n",
       "      <td>r0b27gIAAAAJ</td>\n",
       "    </tr>\n",
       "  </tbody>\n",
       "</table>\n",
       "<p>3828 rows × 1 columns</p>\n",
       "</div>"
      ],
      "text/plain": [
       "         Author_ID\n",
       "0     G9MSEncAAAAJ\n",
       "1     9_Hpd5kAAAAJ\n",
       "2     voqd-dcAAAAJ\n",
       "3     mfCKHikAAAAJ\n",
       "4     S6VMDA8AAAAJ\n",
       "...            ...\n",
       "6289  WIc3assAAAAJ\n",
       "6290  Dbc3oB8AAAAJ\n",
       "6291  Fh3EYHAAAAAJ\n",
       "6317  gCDliicAAAAJ\n",
       "6318  r0b27gIAAAAJ\n",
       "\n",
       "[3828 rows x 1 columns]"
      ]
     },
     "execution_count": 61,
     "metadata": {},
     "output_type": "execute_result"
    }
   ],
   "source": [
    "df['authors_id'] = df['authors_id'].apply(ast.literal_eval)\n",
    "authorlist = []\n",
    "for index, row in df.iterrows():\n",
    "    authorlist.append(row['authors_id'])\n",
    "flatList = [element for innerList in authorlist for element in innerList]\n",
    "df_authors = pd.DataFrame(flatList)\n",
    "df_authors.columns = [\"Author_ID\"]\n",
    "df_authors = df_authors.drop_duplicates(subset='Author_ID')\n",
    "df_authors\n"
   ]
  },
  {
   "cell_type": "code",
   "execution_count": 62,
   "metadata": {},
   "outputs": [],
   "source": [
    "G = nx.Graph()\n",
    "for index, row in df_authors.iterrows():\n",
    "    # G.add_node(row['authors_id'], name=row['formatted_authors_name'])\n",
    "    # print(row['Author_ID'])\n",
    "    G.add_node(row['Author_ID'])"
   ]
  },
  {
   "cell_type": "code",
   "execution_count": 63,
   "metadata": {},
   "outputs": [],
   "source": [
    "for index, row in df.iterrows():\n",
    "    # authorlist.append(row['authors_id'])\n",
    "    if len(row['authors_id']) > 1:\n",
    "        lis = row['authors_id']\n",
    "        list_combinations = list(combinations(lis, 2))\n",
    "        # print(list_combinations)\n",
    "        for edge in list_combinations:\n",
    "            # print(edge[0],edge[1])\n",
    "            G.add_edge(edge[0], edge[1])"
   ]
  },
  {
   "cell_type": "code",
   "execution_count": 64,
   "metadata": {},
   "outputs": [
    {
     "data": {
      "text/plain": [
       "(4188, 3828)"
      ]
     },
     "execution_count": 64,
     "metadata": {},
     "output_type": "execute_result"
    }
   ],
   "source": [
    "G.number_of_edges(), G.number_of_nodes()"
   ]
  },
  {
   "cell_type": "markdown",
   "metadata": {},
   "source": [
    "# authors could not find in scholar scraping"
   ]
  },
  {
   "cell_type": "code",
   "execution_count": 65,
   "metadata": {},
   "outputs": [],
   "source": [
    "df_mapping = pd.read_csv('/Users/shrabanighosh/My work/UNCC/Fall 2024/CHI2025/authors_names/author_info/hci_uniques2.csv')\n",
    "# df_mapping[~df_mapping['Author_ID'].isin(df_authors['Author_ID'].tolist())]\n",
    "remove_nodes = df_authors[~df_authors['Author_ID'].isin(df_mapping['Author_ID'].tolist())]['Author_ID'].tolist()"
   ]
  },
  {
   "cell_type": "code",
   "execution_count": 66,
   "metadata": {},
   "outputs": [
    {
     "data": {
      "text/plain": [
       "(4017, 3732)"
      ]
     },
     "execution_count": 66,
     "metadata": {},
     "output_type": "execute_result"
    }
   ],
   "source": [
    "G.remove_nodes_from(remove_nodes)\n",
    "\n",
    "# print(\"Nodes after removal:\", G.nodes())\n",
    "# print(\"Edges after removal:\", G.edges())\n",
    "G.number_of_edges(), G.number_of_nodes()"
   ]
  },
  {
   "cell_type": "code",
   "execution_count": 67,
   "metadata": {},
   "outputs": [],
   "source": [
    "nx.write_edgelist(G,\"/Users/shrabanighosh/My work/UNCC/Fall 2024/CHI2025/authors_names/graphs/hci_edges.edgelist\", data = False)"
   ]
  },
  {
   "cell_type": "code",
   "execution_count": null,
   "metadata": {},
   "outputs": [],
   "source": [
    "edges_df = pd.read_csv(\"hci_edges.edgelist\",sep = ' ') \n",
    "edges_df.columns = [\"author1\", \"author2\", \"note\"]\n",
    "edges_df = edges_df[['author1','author2']]\n",
    "edges_df"
   ]
  },
  {
   "cell_type": "code",
   "execution_count": null,
   "metadata": {},
   "outputs": [],
   "source": []
  },
  {
   "cell_type": "code",
   "execution_count": null,
   "metadata": {},
   "outputs": [],
   "source": []
  },
  {
   "cell_type": "code",
   "execution_count": null,
   "metadata": {},
   "outputs": [],
   "source": [
    "df['authors_id'] = df['authors_id'].apply(ast.literal_eval)\n",
    "authorlist = []\n",
    "for index, row in df.iterrows():\n",
    "    authorlist.append(row['authors_id'])\n",
    "flatList = [element for innerList in authorlist for element in innerList]\n",
    "df_authors = pd.DataFrame(flatList)\n",
    "df_authors.columns = [\"Author_ID\"]\n",
    "df_authors = df_authors.drop_duplicates(subset='Author_ID')\n",
    "df_authors\n"
   ]
  },
  {
   "cell_type": "code",
   "execution_count": null,
   "metadata": {},
   "outputs": [],
   "source": [
    "for index, row in df_authors.iterrows():\n",
    "    # G.add_node(row['authors_id'], name=row['formatted_authors_name'])\n",
    "    # print(row['Author_ID'])\n",
    "    G.add_node(row['Author_ID'])"
   ]
  }
 ],
 "metadata": {
  "kernelspec": {
   "display_name": "thematic",
   "language": "python",
   "name": "python3"
  },
  "language_info": {
   "codemirror_mode": {
    "name": "ipython",
    "version": 3
   },
   "file_extension": ".py",
   "mimetype": "text/x-python",
   "name": "python",
   "nbconvert_exporter": "python",
   "pygments_lexer": "ipython3",
   "version": "3.11.4"
  }
 },
 "nbformat": 4,
 "nbformat_minor": 2
}
