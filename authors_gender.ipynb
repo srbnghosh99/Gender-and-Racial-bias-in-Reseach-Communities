{
 "cells": [
  {
   "cell_type": "code",
   "execution_count": null,
   "metadata": {},
   "outputs": [],
   "source": [
    "import pandas as pd\n",
    "from scholarly import scholarly\n",
    "import time\n",
    "import csv\n",
    "import seaborn as sns\n",
    "import matplotlib.pyplot as plt"
   ]
  },
  {
   "cell_type": "code",
   "execution_count": null,
   "metadata": {},
   "outputs": [],
   "source": [
    "df = pd.read_csv(\"Computer_Vision.csv\")"
   ]
  },
  {
   "cell_type": "code",
   "execution_count": null,
   "metadata": {},
   "outputs": [],
   "source": [
    "df['formatted_authors_name'] = \"\"\n",
    "for index, row in df.iterrows():\n",
    "    lis = (row['authors_name']).split(',')\n",
    "    # print(lis)\n",
    "    if lis:\n",
    "        l = []\n",
    "        for i in lis:\n",
    "            i = i.strip()\n",
    "            i = i.split(' ')\n",
    "            j = \"_\".join(i)\n",
    "            # print(j)\n",
    "            # j = str(j).replace('[','').replace(']','').replace('\\\"','')\n",
    "            j = str(j).replace('[','').replace(']','')\n",
    "            # print(j)\n",
    "            l.append((j))\n",
    "            df.at[index,'formatted_authors_name'] = l"
   ]
  },
  {
   "cell_type": "code",
   "execution_count": null,
   "metadata": {},
   "outputs": [],
   "source": [
    "df = df.drop_duplicates(subset='Author_ID')"
   ]
  },
  {
   "cell_type": "code",
   "execution_count": null,
   "metadata": {},
   "outputs": [],
   "source": [
    "# Input list of author IDs\n",
    "author_ids = df['authors_id'].tolist()\n",
    "author_ids = author_ids[0:10]\n",
    "\n",
    "# Output CSV file\n",
    "output_file = \"CV_authors_info.csv\"\n",
    "\n",
    "# Function to get author info\n",
    "def get_author_info(author_id):\n",
    "    try:\n",
    "        author = scholarly.search_author_id(author_id)\n",
    "        author_info = scholarly.fill(author)\n",
    "        return {\n",
    "            \"name\": author_info.get(\"name\", \"\"),\n",
    "            \"affiliation\": author_info.get(\"affiliation\", \"\"),\n",
    "            \"h_index\": author_info.get(\"hindex\", 0),\n",
    "            \"citations\": author_info.get(\"citedby\", 0),\n",
    "            'email': author_info.get(\"email\", 0),\n",
    "        }\n",
    "    except Exception as e:\n",
    "        print(f\"Error for author {author_id}: {e}\")\n",
    "        return None\n",
    "\n",
    "# Write data to CSV\n",
    "with open(output_file, mode=\"w\", newline=\"\") as file:\n",
    "    writer = csv.DictWriter(file, fieldnames=[\"Author ID\", \"Name\", \"Affiliation\", \"H-index\", \"Citations\",\"Email\"])\n",
    "    writer.writeheader()\n",
    "\n",
    "    for author_id in author_ids:\n",
    "        author_data = get_author_info(author_id)\n",
    "        if author_data:\n",
    "            author_data[\"Author ID\"] = author_id\n",
    "            writer.writerow(author_data)\n",
    "            print(f\"Scraped: {author_data['name']} ({author_id})\")\n",
    "        time.sleep(5)  # Rate limit (adjust as needed)\n",
    "\n"
   ]
  },
  {
   "cell_type": "code",
   "execution_count": null,
   "metadata": {},
   "outputs": [],
   "source": [
    "new_df = pd.read_csv(\"CV_authors_info\")\n",
    "new_df.loc[~new_df['ga_gender'].isin([\"male\", \"female\"]), 'ga_gender'] = 'unknown'\n",
    "new_df.to_csv(\"CV_authors_infoo.csv\")"
   ]
  },
  {
   "cell_type": "code",
   "execution_count": null,
   "metadata": {},
   "outputs": [],
   "source": [
    "gender_counts = df[\"ga_gender\"].value_counts()\n",
    "gender_percentages = (gender_counts / gender_counts.sum()) * 100\n",
    "\n",
    "# Plot distribution\n",
    "plt.figure(figsize=(6, 6))\n",
    "gender_percentages.plot(kind=\"pie\", autopct=\"%.1f%%\", colors=[\"#ff9999\", \"#66b3ff\"], startangle=90)\n",
    "plt.title(\"Gender Distribution\")\n",
    "plt.ylabel(\"\")  # Removes default ylabel for a cleaner look\n",
    "plt.show()"
   ]
  }
 ],
 "metadata": {
  "language_info": {
   "name": "python"
  }
 },
 "nbformat": 4,
 "nbformat_minor": 2
}
